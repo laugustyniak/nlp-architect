{
 "cells": [
  {
   "cell_type": "code",
   "execution_count": 16,
   "metadata": {},
   "outputs": [],
   "source": [
    "import sys\n",
    "import pandas as pd\n",
    "\n",
    "from collections import defaultdict"
   ]
  },
  {
   "cell_type": "code",
   "execution_count": 2,
   "metadata": {},
   "outputs": [
    {
     "name": "stderr",
     "output_type": "stream",
     "text": [
      "Using TensorFlow backend.\n"
     ]
    }
   ],
   "source": [
    "sys.path.append('/home/lukasz/github/nlp/nlp-architect/examples/aspect_extraction/')\n",
    "from aspect_extraction_test import get_aspect_datasets "
   ]
  },
  {
   "cell_type": "code",
   "execution_count": 3,
   "metadata": {},
   "outputs": [],
   "source": [
    "sys.path.append('/home/lukasz/github/nlp/nlp-architect/')\n",
    "from nlp_architect.data.sequential_tagging import SequentialTaggingDataset"
   ]
  },
  {
   "cell_type": "code",
   "execution_count": 4,
   "metadata": {},
   "outputs": [],
   "source": [
    "sys.path.append('/home/lukasz/github/phd/sentiment-backend/')\n",
    "from aspects.preprocessing.conll import Conll, get_tag_frequency, process_conll_file"
   ]
  },
  {
   "cell_type": "code",
   "execution_count": 5,
   "metadata": {},
   "outputs": [
    {
     "name": "stderr",
     "output_type": "stream",
     "text": [
      "  0%|          | 0/2 [00:00<?, ?it/s]\n",
      "Datasets progress:   0%|          | 0/17 [00:00<?, ?it/s]\u001b[A\n",
      "Datasets progress: 100%|██████████| 17/17 [00:00<00:00, 7908.51it/s]\u001b[A\n",
      "Datasets progress:   0%|          | 0/2 [00:00<?, ?it/s]\u001b[A\n",
      "100%|██████████| 2/2 [00:00<00:00, 129.39it/s]<00:00, 3631.43it/s]\u001b[A\n"
     ]
    }
   ],
   "source": [
    "datasets = get_aspect_datasets()"
   ]
  },
  {
   "cell_type": "code",
   "execution_count": 7,
   "metadata": {},
   "outputs": [],
   "source": [
    "def get_jaccard(t1, t2):\n",
    "    t1, t2 = set(t1), set(t2)    \n",
    "    return len(t1.intersection(t2))/len(t1.union(t2))"
   ]
  },
  {
   "cell_type": "code",
   "execution_count": 31,
   "metadata": {},
   "outputs": [
    {
     "name": "stderr",
     "output_type": "stream",
     "text": [
      "100%|██████████| 422/422 [00:00<00:00, 129253.42it/s]\n",
      "100%|██████████| 106/106 [00:00<00:00, 24257.76it/s]\n",
      "100%|██████████| 1320/1320 [00:00<00:00, 206801.18it/s]\n",
      "100%|██████████| 330/330 [00:00<00:00, 184303.64it/s]\n",
      "100%|██████████| 276/276 [00:00<00:00, 158383.90it/s]\n",
      "100%|██████████| 70/70 [00:00<00:00, 64175.14it/s]\n",
      "100%|██████████| 575/575 [00:00<00:00, 162056.50it/s]\n",
      "100%|██████████| 144/144 [00:00<00:00, 127718.29it/s]\n",
      "100%|██████████| 453/453 [00:00<00:00, 158110.99it/s]\n",
      "100%|██████████| 114/114 [00:00<00:00, 117308.80it/s]\n",
      "100%|██████████| 690/690 [00:00<00:00, 180834.15it/s]\n",
      "100%|██████████| 173/173 [00:00<00:00, 168238.95it/s]\n",
      "100%|██████████| 428/428 [00:00<00:00, 113359.57it/s]\n",
      "100%|██████████| 107/107 [00:00<00:00, 70145.44it/s]\n",
      "100%|██████████| 549/549 [00:00<00:00, 156879.20it/s]\n",
      "100%|██████████| 138/138 [00:00<00:00, 98454.49it/s]\n",
      "100%|██████████| 182/182 [00:00<00:00, 72860.87it/s]\n",
      "100%|██████████| 46/46 [00:00<00:00, 32134.91it/s]\n",
      "100%|██████████| 788/788 [00:00<00:00, 151777.72it/s]\n",
      "100%|██████████| 198/198 [00:00<00:00, 87051.59it/s]\n",
      "100%|██████████| 304/304 [00:00<00:00, 79642.00it/s]\n",
      "100%|██████████| 76/76 [00:00<00:00, 85851.63it/s]\n",
      "100%|██████████| 468/468 [00:00<00:00, 144951.58it/s]\n",
      "100%|██████████| 118/118 [00:00<00:00, 81563.59it/s]\n",
      "100%|██████████| 248/248 [00:00<00:00, 85268.25it/s]\n",
      "100%|██████████| 63/63 [00:00<00:00, 104113.93it/s]\n",
      "100%|██████████| 239/239 [00:00<00:00, 106744.61it/s]\n",
      "100%|██████████| 60/60 [00:00<00:00, 90524.55it/s]\n",
      "100%|██████████| 296/296 [00:00<00:00, 107350.97it/s]\n",
      "100%|██████████| 74/74 [00:00<00:00, 37685.59it/s]\n",
      "100%|██████████| 439/439 [00:00<00:00, 132830.72it/s]\n",
      "100%|██████████| 110/110 [00:00<00:00, 73607.76it/s]\n",
      "100%|██████████| 419/419 [00:00<00:00, 102580.75it/s]\n",
      "100%|██████████| 105/105 [00:00<00:00, 126916.98it/s]\n",
      "100%|██████████| 3044/3044 [00:00<00:00, 188722.60it/s]\n",
      "100%|██████████| 800/800 [00:00<00:00, 153757.19it/s]\n",
      "100%|██████████| 3048/3048 [00:00<00:00, 177044.95it/s]\n",
      "100%|██████████| 800/800 [00:00<00:00, 201528.12it/s]\n"
     ]
    }
   ],
   "source": [
    "datasets_stats = defaultdict(dict)\n",
    "\n",
    "min_tag_freq = 2\n",
    "for dataset in datasets: \n",
    "    df_tag_freq_train = process_conll_file(dataset.train_file.as_posix())\n",
    "    df_tag_freq_test = process_conll_file(dataset.test_file.as_posix())\n",
    "    \n",
    "    aspects_train = df_tag_freq_train.text.tolist()\n",
    "    aspects_test = df_tag_freq_test.text.tolist()\n",
    "    \n",
    "    datasets_stats[dataset.name]['jaccard'] = get_jaccard(aspects_train, aspects_test)\n",
    "    datasets_stats[dataset.name]['unique_aspects'] = len(set(aspects_train).union(set(aspects_test)))\n",
    "    datasets_stats[dataset.name]['intersecting_aspects'] = len(set(aspects_train).intersection(set(aspects_test)))\n",
    "    datasets_stats[dataset.name]['unique_aspects_train'] = len(set(aspects_train))\n",
    "    datasets_stats[dataset.name]['unique_aspects_test'] = len(set(aspects_test))"
   ]
  },
  {
   "cell_type": "code",
   "execution_count": 32,
   "metadata": {},
   "outputs": [
    {
     "data": {
      "text/plain": [
       "defaultdict(dict,\n",
       "            {'Apex AD2600 Progressive-scan DVD player': {'intersecting_aspects': 12,\n",
       "              'jaccard': 0.14457831325301204,\n",
       "              'unique_aspects': 83,\n",
       "              'unique_aspects_test': 20,\n",
       "              'unique_aspects_train': 75},\n",
       "             'Canon G3': {'intersecting_aspects': 16,\n",
       "              'jaccard': 0.21333333333333335,\n",
       "              'unique_aspects': 75,\n",
       "              'unique_aspects_test': 21,\n",
       "              'unique_aspects_train': 70},\n",
       "             'Canon PowerShot SD500': {'intersecting_aspects': 7,\n",
       "              'jaccard': 0.09722222222222222,\n",
       "              'unique_aspects': 72,\n",
       "              'unique_aspects_test': 19,\n",
       "              'unique_aspects_train': 60},\n",
       "             'Canon S100': {'intersecting_aspects': 12,\n",
       "              'jaccard': 0.12244897959183673,\n",
       "              'unique_aspects': 98,\n",
       "              'unique_aspects_test': 32,\n",
       "              'unique_aspects_train': 78},\n",
       "             'Computer': {'intersecting_aspects': 24,\n",
       "              'jaccard': 0.1568627450980392,\n",
       "              'unique_aspects': 153,\n",
       "              'unique_aspects_test': 45,\n",
       "              'unique_aspects_train': 132},\n",
       "             'Creative Labs Nomad Jukebox Zen Xtra 40GB': {'intersecting_aspects': 37,\n",
       "              'jaccard': 0.24666666666666667,\n",
       "              'unique_aspects': 150,\n",
       "              'unique_aspects_test': 61,\n",
       "              'unique_aspects_train': 126},\n",
       "             'Diaper Champ': {'intersecting_aspects': 18,\n",
       "              'jaccard': 0.2727272727272727,\n",
       "              'unique_aspects': 66,\n",
       "              'unique_aspects_test': 29,\n",
       "              'unique_aspects_train': 55},\n",
       "             'Hitachi router': {'intersecting_aspects': 16,\n",
       "              'jaccard': 0.19047619047619047,\n",
       "              'unique_aspects': 84,\n",
       "              'unique_aspects_test': 25,\n",
       "              'unique_aspects_train': 75},\n",
       "             'Linksys Router': {'intersecting_aspects': 20,\n",
       "              'jaccard': 0.21505376344086022,\n",
       "              'unique_aspects': 93,\n",
       "              'unique_aspects_test': 33,\n",
       "              'unique_aspects_train': 80},\n",
       "             'MicroMP3': {'intersecting_aspects': 22,\n",
       "              'jaccard': 0.16666666666666666,\n",
       "              'unique_aspects': 132,\n",
       "              'unique_aspects_test': 39,\n",
       "              'unique_aspects_train': 115},\n",
       "             'Nikon coolpix 4300': {'intersecting_aspects': 7,\n",
       "              'jaccard': 0.1320754716981132,\n",
       "              'unique_aspects': 53,\n",
       "              'unique_aspects_test': 16,\n",
       "              'unique_aspects_train': 44},\n",
       "             'Nokia 6600': {'intersecting_aspects': 28,\n",
       "              'jaccard': 0.1917808219178082,\n",
       "              'unique_aspects': 146,\n",
       "              'unique_aspects_test': 47,\n",
       "              'unique_aspects_train': 127},\n",
       "             'Nokia 6610': {'intersecting_aspects': 15,\n",
       "              'jaccard': 0.19230769230769232,\n",
       "              'unique_aspects': 78,\n",
       "              'unique_aspects_test': 26,\n",
       "              'unique_aspects_train': 67},\n",
       "             'Router': {'intersecting_aspects': 22,\n",
       "              'jaccard': 0.16793893129770993,\n",
       "              'unique_aspects': 131,\n",
       "              'unique_aspects_test': 43,\n",
       "              'unique_aspects_train': 110},\n",
       "             'Speaker': {'intersecting_aspects': 22,\n",
       "              'jaccard': 0.13664596273291926,\n",
       "              'unique_aspects': 161,\n",
       "              'unique_aspects_test': 49,\n",
       "              'unique_aspects_train': 134},\n",
       "             'ipod': {'intersecting_aspects': 14,\n",
       "              'jaccard': 0.175,\n",
       "              'unique_aspects': 80,\n",
       "              'unique_aspects_test': 25,\n",
       "              'unique_aspects_train': 69},\n",
       "             'laptops': {'intersecting_aspects': 130,\n",
       "              'jaccard': 0.11607142857142858,\n",
       "              'unique_aspects': 1120,\n",
       "              'unique_aspects_test': 363,\n",
       "              'unique_aspects_train': 887},\n",
       "             'norton': {'intersecting_aspects': 16,\n",
       "              'jaccard': 0.1568627450980392,\n",
       "              'unique_aspects': 102,\n",
       "              'unique_aspects_test': 34,\n",
       "              'unique_aspects_train': 84},\n",
       "             'restaurants': {'intersecting_aspects': 161,\n",
       "              'jaccard': 0.11322081575246132,\n",
       "              'unique_aspects': 1422,\n",
       "              'unique_aspects_test': 475,\n",
       "              'unique_aspects_train': 1108}})"
      ]
     },
     "execution_count": 32,
     "metadata": {},
     "output_type": "execute_result"
    }
   ],
   "source": [
    "datasets_stats"
   ]
  },
  {
   "cell_type": "code",
   "execution_count": 33,
   "metadata": {},
   "outputs": [
    {
     "data": {
      "text/plain": [
       "Dataset(name='laptops', train_file=PosixPath('/home/lukasz/github/nlp/nlp-architect/examples/aspect_extraction/semeval/2014/laptops-train.conll'), test_file=PosixPath('/home/lukasz/github/nlp/nlp-architect/examples/aspect_extraction/semeval/2014/laptops-test.conll'))"
      ]
     },
     "execution_count": 33,
     "metadata": {},
     "output_type": "execute_result"
    }
   ],
   "source": [
    "dataset"
   ]
  },
  {
   "cell_type": "code",
   "execution_count": null,
   "metadata": {},
   "outputs": [],
   "source": []
  }
 ],
 "metadata": {
  "kernelspec": {
   "display_name": "Python 3",
   "language": "python",
   "name": "python3"
  },
  "language_info": {
   "codemirror_mode": {
    "name": "ipython",
    "version": 3
   },
   "file_extension": ".py",
   "mimetype": "text/x-python",
   "name": "python",
   "nbconvert_exporter": "python",
   "pygments_lexer": "ipython3",
   "version": "3.5.2"
  }
 },
 "nbformat": 4,
 "nbformat_minor": 2
}
